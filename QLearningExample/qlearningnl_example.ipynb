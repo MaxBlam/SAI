{
 "cells": [
  {
   "cell_type": "markdown",
   "metadata": {
    "id": "klGNgWREsvQv"
   },
   "source": [
    "##### Copyright 2021 The TF-Agents Authors."
   ]
  },
  {
   "cell_type": "code",
   "execution_count": 1,
   "metadata": {
    "cellView": "form",
    "execution": {
     "iopub.execute_input": "2021-04-23T11:12:44.367305Z",
     "iopub.status.busy": "2021-04-23T11:12:44.366643Z",
     "iopub.status.idle": "2021-04-23T11:12:44.369053Z",
     "shell.execute_reply": "2021-04-23T11:12:44.368487Z"
    },
    "id": "nQnmcm0oI1Q-"
   },
   "outputs": [],
   "source": [
    "#@title Licensed under the Apache License, Version 2.0 (the \"License\");\n",
    "# you may not use this file except in compliance with the License.\n",
    "# You may obtain a copy of the License at\n",
    "#\n",
    "# https://www.apache.org/licenses/LICENSE-2.0\n",
    "#\n",
    "# Unless required by applicable law or agreed to in writing, software\n",
    "# distributed under the License is distributed on an \"AS IS\" BASIS,\n",
    "# WITHOUT WARRANTIES OR CONDITIONS OF ANY KIND, either express or implied.\n",
    "# See the License for the specific language governing permissions and\n",
    "# limitations under the License."
   ]
  },
  {
   "cell_type": "markdown",
   "metadata": {
    "id": "lsaQlK8fFQqH"
   },
   "source": [
    "## Introduction\n"
   ]
  },
  {
   "cell_type": "markdown",
   "metadata": {
    "id": "cKOCZlhUgXVK"
   },
   "source": [
    "This example shows how to train a [DQN (Deep Q Networks)](https://storage.googleapis.com/deepmind-media/dqn/DQNNaturePaper.pdf)  agent on the Cartpole environment using the TF-Agents library.\n",
    "\n",
    "![Cartpole environment](https://raw.githubusercontent.com/tensorflow/agents/master/docs/tutorials/images/cartpole.png)\n",
    "\n",
    "It will walk you through all the components in a Reinforcement Learning (RL) pipeline for training, evaluation and data collection.\n",
    "\n",
    "\n",
    "To run this code live, click the 'Run in Google Colab' link above.\n"
   ]
  },
  {
   "cell_type": "markdown",
   "metadata": {
    "id": "1u9QVVsShC9X"
   },
   "source": [
    "## Setup"
   ]
  },
  {
   "cell_type": "markdown",
   "metadata": {
    "id": "kNrNXKI7bINP"
   },
   "source": [
    "If you haven't installed the following dependencies, run:"
   ]
  },
  {
   "cell_type": "code",
   "execution_count": 3,
   "metadata": {
    "execution": {
     "iopub.execute_input": "2021-04-23T11:12:55.993698Z",
     "iopub.status.busy": "2021-04-23T11:12:55.993050Z",
     "iopub.status.idle": "2021-04-23T11:13:02.562721Z",
     "shell.execute_reply": "2021-04-23T11:13:02.562075Z"
    },
    "id": "sMitx5qSgJk1"
   },
   "outputs": [],
   "source": [
    "from __future__ import absolute_import, division, print_function\n",
    "\n",
    "import base64\n",
    "import imageio\n",
    "import IPython\n",
    "import matplotlib\n",
    "import matplotlib.pyplot as plt\n",
    "import numpy as np\n",
    "import PIL.Image\n",
    "import pyvirtualdisplay\n",
    "\n",
    "import tensorflow as tf\n",
    "\n",
    "from tf_agents.agents.dqn import dqn_agent\n",
    "from tf_agents.drivers import dynamic_step_driver\n",
    "from tf_agents.environments import suite_gym\n",
    "from tf_agents.environments import tf_py_environment\n",
    "from tf_agents.eval import metric_utils\n",
    "from tf_agents.metrics import tf_metrics\n",
    "from tf_agents.networks import sequential\n",
    "from tf_agents.policies import random_tf_policy\n",
    "from tf_agents.replay_buffers import tf_uniform_replay_buffer\n",
    "from tf_agents.trajectories import trajectory\n",
    "from tf_agents.specs import tensor_spec\n",
    "from tf_agents.utils import common"
   ]
  },
  {
   "cell_type": "code",
   "execution_count": 4,
   "metadata": {
    "execution": {
     "iopub.execute_input": "2021-04-23T11:13:02.571258Z",
     "iopub.status.busy": "2021-04-23T11:13:02.566295Z",
     "iopub.status.idle": "2021-04-23T11:13:02.650020Z",
     "shell.execute_reply": "2021-04-23T11:13:02.649396Z"
    },
    "id": "J6HsdS5GbSjd"
   },
   "outputs": [],
   "source": [
    "# Set up a virtual display for rendering OpenAI gym environments.\n",
    "display = pyvirtualdisplay.Display(visible=0, size=(1400, 900)).start()"
   ]
  },
  {
   "cell_type": "markdown",
   "metadata": {
    "id": "LmC0NDhdLIKY"
   },
   "source": [
    "## Hyperparameters"
   ]
  },
  {
   "cell_type": "code",
   "execution_count": 6,
   "metadata": {
    "execution": {
     "iopub.execute_input": "2021-04-23T11:13:02.663968Z",
     "iopub.status.busy": "2021-04-23T11:13:02.663379Z",
     "iopub.status.idle": "2021-04-23T11:13:02.665130Z",
     "shell.execute_reply": "2021-04-23T11:13:02.665468Z"
    },
    "id": "HC1kNrOsLSIZ"
   },
   "outputs": [],
   "source": [
    "num_iterations = 20000 # @param {type:\"integer\"}\n",
    "\n",
    "initial_collect_steps = 100  # @param {type:\"integer\"} \n",
    "collect_steps_per_iteration = 1  # @param {type:\"integer\"}\n",
    "replay_buffer_max_length = 100000  # @param {type:\"integer\"}\n",
    "\n",
    "batch_size = 64  # @param {type:\"integer\"}\n",
    "learning_rate = 1e-3  # @param {type:\"number\"}\n",
    "log_interval = 200  # @param {type:\"integer\"}\n",
    "\n",
    "num_eval_episodes = 10  # @param {type:\"integer\"}\n",
    "eval_interval = 1000  # @param {type:\"integer\"}"
   ]
  },
  {
   "cell_type": "markdown",
   "metadata": {
    "id": "VMsJC3DEgI0x"
   },
   "source": [
    "## Environment\n",
    "\n",
    "In Reinforcement Learning (RL), an environment represents the task or problem to be solved. Standard environments can be created in TF-Agents using `tf_agents.environments` suites. TF-Agents has suites for loading environments from sources such as the OpenAI Gym, Atari, and DM Control.\n",
    "\n",
    "Load the CartPole environment from the OpenAI Gym suite. "
   ]
  },
  {
   "cell_type": "code",
   "execution_count": 7,
   "metadata": {
    "execution": {
     "iopub.execute_input": "2021-04-23T11:13:02.669158Z",
     "iopub.status.busy": "2021-04-23T11:13:02.668483Z",
     "iopub.status.idle": "2021-04-23T11:13:02.677323Z",
     "shell.execute_reply": "2021-04-23T11:13:02.676825Z"
    },
    "id": "pYEz-S9gEv2-"
   },
   "outputs": [],
   "source": [
    "env_name = 'CartPole-v0'\n",
    "env = suite_gym.load(env_name)"
   ]
  },
  {
   "cell_type": "markdown",
   "metadata": {
    "id": "IIHYVBkuvPNw"
   },
   "source": [
    "You can render this environment to see how it looks. A free-swinging pole is attached to a cart.  The goal is to move the cart right or left in order to keep the pole pointing up."
   ]
  },
  {
   "cell_type": "code",
   "execution_count": 8,
   "metadata": {
    "execution": {
     "iopub.execute_input": "2021-04-23T11:13:02.683190Z",
     "iopub.status.busy": "2021-04-23T11:13:02.682597Z",
     "iopub.status.idle": "2021-04-23T11:13:03.121296Z",
     "shell.execute_reply": "2021-04-23T11:13:03.120778Z"
    },
    "id": "RlO7WIQHu_7D"
   },
   "outputs": [
    {
     "data": {
      "image/png": "[encoded data removed]",
      "text/plain": [
       "<PIL.Image.Image image mode=RGB size=600x400 at 0x7F8ECA456BA8>"
      ]
     },
     "execution_count": 1,
     "metadata": {},
     "output_type": "execute_result"
    }
   ],
   "source": [
    "#@test {\"skip\": true}\n",
    "env.reset()\n",
    "PIL.Image.fromarray(env.render())"
   ]
  },
  {
   "cell_type": "markdown",
   "metadata": {
    "id": "B9_lskPOey18"
   },
   "source": [
    "The `environment.step` method takes an `action` in the environment and returns a `TimeStep` tuple containing the next observation of the environment and the reward for the action.\n",
    "\n",
    "The `time_step_spec()` method returns the specification for the `TimeStep` tuple. Its `observation` attribute shows the shape of observations, the data types, and the ranges of allowed values. The `reward` attribute shows the same details for the reward.\n"
   ]
  },
  {
   "cell_type": "code",
   "execution_count": 9,
   "metadata": {
    "execution": {
     "iopub.execute_input": "2021-04-23T11:13:03.130170Z",
     "iopub.status.busy": "2021-04-23T11:13:03.129447Z",
     "iopub.status.idle": "2021-04-23T11:13:03.131623Z",
     "shell.execute_reply": "2021-04-23T11:13:03.131971Z"
    },
    "id": "exDv57iHfwQV"
   },
   "outputs": [
    {
     "name": "stdout",
     "output_type": "stream",
     "text": [
      "Observation Spec:\n",
      "BoundedArraySpec(shape=(4,), dtype=dtype('float32'), name='observation', minimum=[-4.8000002e+00 -3.4028235e+38 -4.1887903e-01 -3.4028235e+38], maximum=[4.8000002e+00 3.4028235e+38 4.1887903e-01 3.4028235e+38])\n"
     ]
    }
   ],
   "source": [
    "print('Observation Spec:')\n",
    "print(env.time_step_spec().observation)"
   ]
  },
  {
   "cell_type": "code",
   "execution_count": 10,
   "metadata": {
    "execution": {
     "iopub.execute_input": "2021-04-23T11:13:03.136126Z",
     "iopub.status.busy": "2021-04-23T11:13:03.135483Z",
     "iopub.status.idle": "2021-04-23T11:13:03.138088Z",
     "shell.execute_reply": "2021-04-23T11:13:03.137616Z"
    },
    "id": "UxiSyCbBUQPi"
   },
   "outputs": [
    {
     "name": "stdout",
     "output_type": "stream",
     "text": [
      "Reward Spec:\n",
      "ArraySpec(shape=(), dtype=dtype('float32'), name='reward')\n"
     ]
    }
   ],
   "source": [
    "print('Reward Spec:')\n",
    "print(env.time_step_spec().reward)"
   ]
  },
  {
   "cell_type": "markdown",
   "metadata": {
    "id": "b_lHcIcqUaqB"
   },
   "source": [
    "The `action_spec()` method returns the shape, data types, and allowed values of valid actions."
   ]
  },
  {
   "cell_type": "code",
   "execution_count": 11,
   "metadata": {
    "execution": {
     "iopub.execute_input": "2021-04-23T11:13:03.142002Z",
     "iopub.status.busy": "2021-04-23T11:13:03.141319Z",
     "iopub.status.idle": "2021-04-23T11:13:03.143538Z",
     "shell.execute_reply": "2021-04-23T11:13:03.143928Z"
    },
    "id": "bttJ4uxZUQBr"
   },
   "outputs": [
    {
     "name": "stdout",
     "output_type": "stream",
     "text": [
      "Action Spec:\n",
      "BoundedArraySpec(shape=(), dtype=dtype('int64'), name='action', minimum=0, maximum=1)\n"
     ]
    }
   ],
   "source": [
    "print('Action Spec:')\n",
    "print(env.action_spec())"
   ]
  },
  {
   "cell_type": "markdown",
   "metadata": {
    "id": "eJCgJnx3g0yY"
   },
   "source": [
    "In the Cartpole environment:\n",
    "\n",
    "-   `observation` is an array of 4 floats: \n",
    "    -   the position and velocity of the cart\n",
    "    -   the angular position and velocity of the pole \n",
    "-   `reward` is a scalar float value\n",
    "-   `action` is a scalar integer with only two possible values:\n",
    "    -   `0` — \"move left\"\n",
    "    -   `1` — \"move right\"\n"
   ]
  },
  {
   "cell_type": "code",
   "execution_count": 12,
   "metadata": {
    "execution": {
     "iopub.execute_input": "2021-04-23T11:13:03.151641Z",
     "iopub.status.busy": "2021-04-23T11:13:03.151022Z",
     "iopub.status.idle": "2021-04-23T11:13:03.153773Z",
     "shell.execute_reply": "2021-04-23T11:13:03.153283Z"
    },
    "id": "V2UGR5t_iZX-"
   },
   "outputs": [
    {
     "name": "stdout",
     "output_type": "stream",
     "text": [
      "Time step:\n",
      "TimeStep(step_type=array(0, dtype=int32), reward=array(0., dtype=float32), discount=array(1., dtype=float32), observation=array([ 0.03183139,  0.00279503, -0.02320657,  0.0044977 ], dtype=float32))\n",
      "Next time step:\n",
      "TimeStep(step_type=array(1, dtype=int32), reward=array(1., dtype=float32), discount=array(1., dtype=float32), observation=array([ 0.0318873 ,  0.19824198, -0.02311661, -0.2954159 ], dtype=float32))\n"
     ]
    }
   ],
   "source": [
    "time_step = env.reset()\n",
    "print('Time step:')\n",
    "print(time_step)\n",
    "\n",
    "action = np.array(1, dtype=np.int32)\n",
    "\n",
    "next_time_step = env.step(action)\n",
    "print('Next time step:')\n",
    "print(next_time_step)"
   ]
  },
  {
   "cell_type": "markdown",
   "metadata": {
    "id": "4JSc9GviWUBK"
   },
   "source": [
    "Usually two environments are instantiated: one for training and one for evaluation. "
   ]
  },
  {
   "cell_type": "code",
   "execution_count": 13,
   "metadata": {
    "execution": {
     "iopub.execute_input": "2021-04-23T11:13:03.159903Z",
     "iopub.status.busy": "2021-04-23T11:13:03.159277Z",
     "iopub.status.idle": "2021-04-23T11:13:03.160934Z",
     "shell.execute_reply": "2021-04-23T11:13:03.161327Z"
    },
    "id": "N7brXNIGWXjC"
   },
   "outputs": [],
   "source": [
    "train_py_env = suite_gym.load(env_name)\n",
    "eval_py_env = suite_gym.load(env_name)"
   ]
  },
  {
   "cell_type": "markdown",
   "metadata": {
    "id": "zuUqXAVmecTU"
   },
   "source": [
    "The Cartpole environment, like most environments, is written in pure Python. This is converted to TensorFlow using the `TFPyEnvironment` wrapper.\n",
    "\n",
    "The original environment's API uses Numpy arrays. The `TFPyEnvironment` converts these to `Tensors` to make it compatible with Tensorflow agents and policies.\n"
   ]
  },
  {
   "cell_type": "code",
   "execution_count": 14,
   "metadata": {
    "execution": {
     "iopub.execute_input": "2021-04-23T11:13:03.166121Z",
     "iopub.status.busy": "2021-04-23T11:13:03.165280Z",
     "iopub.status.idle": "2021-04-23T11:13:03.173830Z",
     "shell.execute_reply": "2021-04-23T11:13:03.173376Z"
    },
    "id": "Xp-Y4mD6eDhF"
   },
   "outputs": [],
   "source": [
    "train_env = tf_py_environment.TFPyEnvironment(train_py_env)\n",
    "eval_env = tf_py_environment.TFPyEnvironment(eval_py_env)"
   ]
  },
  {
   "cell_type": "markdown",
   "metadata": {
    "id": "E9lW_OZYFR8A"
   },
   "source": [
    "## Agent\n",
    "\n",
    "The algorithm used to solve an RL problem is represented by an `Agent`. TF-Agents provides standard implementations of a variety of `Agents`, including:\n",
    "\n",
    "-   [DQN](https://storage.googleapis.com/deepmind-media/dqn/DQNNaturePaper.pdf) (used in this tutorial)\n",
    "-   [REINFORCE](https://www-anw.cs.umass.edu/~barto/courses/cs687/williams92simple.pdf)\n",
    "-   [DDPG](https://arxiv.org/pdf/1509.02971.pdf)\n",
    "-   [TD3](https://arxiv.org/pdf/1802.09477.pdf)\n",
    "-   [PPO](https://arxiv.org/abs/1707.06347)\n",
    "-   [SAC](https://arxiv.org/abs/1801.01290).\n",
    "\n",
    "The DQN agent can be used in any environment which has a discrete action space.\n",
    "\n",
    "At the heart of a DQN Agent is a `QNetwork`, a neural network model that can learn to predict `QValues` (expected returns) for all actions, given an observation from the environment.\n",
    "\n",
    "We will use `tf_agents.networks.` to create a `QNetwork`. The network will consist of a sequence of `tf.keras.layers.Dense` layers, where the final layer will have 1 output for each possible action."
   ]
  },
  {
   "cell_type": "code",
   "execution_count": 15,
   "metadata": {
    "execution": {
     "iopub.execute_input": "2021-04-23T11:13:03.180770Z",
     "iopub.status.busy": "2021-04-23T11:13:03.180139Z",
     "iopub.status.idle": "2021-04-23T11:13:03.206012Z",
     "shell.execute_reply": "2021-04-23T11:13:03.205517Z"
    },
    "id": "TgkdEPg_muzV"
   },
   "outputs": [],
   "source": [
    "fc_layer_params = (100, 50)\n",
    "action_tensor_spec = tensor_spec.from_spec(env.action_spec())\n",
    "num_actions = action_tensor_spec.maximum - action_tensor_spec.minimum + 1\n",
    "\n",
    "# Define a helper function to create Dense layers configured with the right\n",
    "# activation and kernel initializer.\n",
    "def dense_layer(num_units):\n",
    "  return tf.keras.layers.Dense(\n",
    "      num_units,\n",
    "      activation=tf.keras.activations.relu,\n",
    "      kernel_initializer=tf.keras.initializers.VarianceScaling(\n",
    "          scale=2.0, mode='fan_in', distribution='truncated_normal'))\n",
    "\n",
    "# QNetwork consists of a sequence of Dense layers followed by a dense layer\n",
    "# with `num_actions` units to generate one q_value per available action as\n",
    "# it's output.\n",
    "dense_layers = [dense_layer(num_units) for num_units in fc_layer_params]\n",
    "q_values_layer = tf.keras.layers.Dense(\n",
    "    num_actions,\n",
    "    activation=None,\n",
    "    kernel_initializer=tf.keras.initializers.RandomUniform(\n",
    "        minval=-0.03, maxval=0.03),\n",
    "    bias_initializer=tf.keras.initializers.Constant(-0.2))\n",
    "q_net = sequential.Sequential(dense_layers + [q_values_layer])"
   ]
  },
  {
   "cell_type": "markdown",
   "metadata": {
    "id": "z62u55hSmviJ"
   },
   "source": [
    "Now use `tf_agents.agents.dqn.dqn_agent` to instantiate a `DqnAgent`. In addition to the `time_step_spec`, `action_spec` and the QNetwork, the agent constructor also requires an optimizer (in this case, `AdamOptimizer`), a loss function, and an integer step counter."
   ]
  },
  {
   "cell_type": "code",
   "execution_count": 16,
   "metadata": {
    "execution": {
     "iopub.execute_input": "2021-04-23T11:13:04.585512Z",
     "iopub.status.busy": "2021-04-23T11:13:04.584773Z",
     "iopub.status.idle": "2021-04-23T11:13:05.334420Z",
     "shell.execute_reply": "2021-04-23T11:13:05.334854Z"
    },
    "id": "jbY4yrjTEyc9"
   },
   "outputs": [],
   "source": [
    "optimizer = tf.keras.optimizers.Adam(learning_rate=learning_rate)\n",
    "\n",
    "train_step_counter = tf.Variable(0)\n",
    "\n",
    "agent = dqn_agent.DqnAgent(\n",
    "    train_env.time_step_spec(),\n",
    "    train_env.action_spec(),\n",
    "    q_network=q_net,\n",
    "    optimizer=optimizer,\n",
    "    td_errors_loss_fn=common.element_wise_squared_loss,\n",
    "    train_step_counter=train_step_counter)\n",
    "\n",
    "agent.initialize()"
   ]
  },
  {
   "cell_type": "markdown",
   "metadata": {
    "id": "I0KLrEPwkn5x"
   },
   "source": [
    "## Policies\n",
    "\n",
    "A policy defines the way an agent acts in an environment. Typically, the goal of reinforcement learning is to train the underlying model until the policy produces the desired outcome.\n",
    "\n",
    "In this tutorial:\n",
    "\n",
    "-   The desired outcome is keeping the pole balanced upright over the cart.\n",
    "-   The policy returns an action (left or right) for each `time_step` observation.\n",
    "\n",
    "Agents contain two policies: \n",
    "\n",
    "-   `agent.policy` — The main policy that is used for evaluation and deployment.\n",
    "-   `agent.collect_policy` — A second policy that is used for data collection.\n"
   ]
  },
  {
   "cell_type": "code",
   "execution_count": 17,
   "metadata": {
    "execution": {
     "iopub.execute_input": "2021-04-23T11:13:05.339562Z",
     "iopub.status.busy": "2021-04-23T11:13:05.338887Z",
     "iopub.status.idle": "2021-04-23T11:13:05.340949Z",
     "shell.execute_reply": "2021-04-23T11:13:05.341346Z"
    },
    "id": "BwY7StuMkuV4"
   },
   "outputs": [],
   "source": [
    "eval_policy = agent.policy\n",
    "collect_policy = agent.collect_policy"
   ]
  },
  {
   "cell_type": "markdown",
   "metadata": {
    "id": "2Qs1Fl3dV0ae"
   },
   "source": [
    "Policies can be created independently of agents. For example, use `tf_agents.policies.random_tf_policy` to create a policy which will randomly select an action for each `time_step`."
   ]
  },
  {
   "cell_type": "code",
   "execution_count": 18,
   "metadata": {
    "execution": {
     "iopub.execute_input": "2021-04-23T11:13:05.345450Z",
     "iopub.status.busy": "2021-04-23T11:13:05.344778Z",
     "iopub.status.idle": "2021-04-23T11:13:05.347222Z",
     "shell.execute_reply": "2021-04-23T11:13:05.346745Z"
    },
    "id": "HE37-UCIrE69"
   },
   "outputs": [],
   "source": [
    "random_policy = random_tf_policy.RandomTFPolicy(train_env.time_step_spec(),\n",
    "                                                train_env.action_spec())"
   ]
  },
  {
   "cell_type": "markdown",
   "metadata": {
    "id": "dOlnlRRsUbxP"
   },
   "source": [
    "To get an action from a policy, call the `policy.action(time_step)` method. The `time_step` contains the observation from the environment. This method returns a `PolicyStep`, which is a named tuple with three components:\n",
    "\n",
    "-   `action` — the action to be taken (in this case, `0` or `1`)\n",
    "-   `state` — used for stateful (that is, RNN-based) policies\n",
    "-   `info` — auxiliary data, such as log probabilities of actions"
   ]
  },
  {
   "cell_type": "code",
   "execution_count": 19,
   "metadata": {
    "execution": {
     "iopub.execute_input": "2021-04-23T11:13:05.352834Z",
     "iopub.status.busy": "2021-04-23T11:13:05.352214Z",
     "iopub.status.idle": "2021-04-23T11:13:05.356450Z",
     "shell.execute_reply": "2021-04-23T11:13:05.355952Z"
    },
    "id": "5gCcpXswVAxk"
   },
   "outputs": [],
   "source": [
    "example_environment = tf_py_environment.TFPyEnvironment(\n",
    "    suite_gym.load('CartPole-v0'))"
   ]
  },
  {
   "cell_type": "code",
   "execution_count": 20,
   "metadata": {
    "execution": {
     "iopub.execute_input": "2021-04-23T11:13:05.360880Z",
     "iopub.status.busy": "2021-04-23T11:13:05.360233Z",
     "iopub.status.idle": "2021-04-23T11:13:05.362894Z",
     "shell.execute_reply": "2021-04-23T11:13:05.363312Z"
    },
    "id": "D4DHZtq3Ndis"
   },
   "outputs": [],
   "source": [
    "time_step = example_environment.reset()"
   ]
  },
  {
   "cell_type": "code",
   "execution_count": 21,
   "metadata": {
    "execution": {
     "iopub.execute_input": "2021-04-23T11:13:05.368694Z",
     "iopub.status.busy": "2021-04-23T11:13:05.367820Z",
     "iopub.status.idle": "2021-04-23T11:13:05.374271Z",
     "shell.execute_reply": "2021-04-23T11:13:05.374729Z"
    },
    "id": "PRFqAUzpNaAW"
   },
   "outputs": [
    {
     "data": {
      "text/plain": [
       "PolicyStep(action=<tf.Tensor: shape=(1,), dtype=int64, numpy=array([0])>, state=(), info=())"
      ]
     },
     "execution_count": 1,
     "metadata": {},
     "output_type": "execute_result"
    }
   ],
   "source": [
    "random_policy.action(time_step)"
   ]
  },
  {
   "cell_type": "markdown",
   "metadata": {
    "id": "94rCXQtbUbXv"
   },
   "source": [
    "## Metrics and Evaluation\n",
    "\n",
    "The most common metric used to evaluate a policy is the average return. The return is the sum of rewards obtained while running a policy in an environment for an episode. Several episodes are run, creating an average return.\n",
    "\n",
    "The following function computes the average return of a policy, given the policy, environment, and a number of episodes.\n"
   ]
  },
  {
   "cell_type": "code",
   "execution_count": 22,
   "metadata": {
    "execution": {
     "iopub.execute_input": "2021-04-23T11:13:05.380989Z",
     "iopub.status.busy": "2021-04-23T11:13:05.380313Z",
     "iopub.status.idle": "2021-04-23T11:13:05.382577Z",
     "shell.execute_reply": "2021-04-23T11:13:05.382071Z"
    },
    "id": "bitzHo5_UbXy"
   },
   "outputs": [],
   "source": [
    "#@test {\"skip\": true}\n",
    "def compute_avg_return(environment, policy, num_episodes=10):\n",
    "\n",
    "  total_return = 0.0\n",
    "  for _ in range(num_episodes):\n",
    "\n",
    "    time_step = environment.reset()\n",
    "    episode_return = 0.0\n",
    "\n",
    "    while not time_step.is_last():\n",
    "      action_step = policy.action(time_step)\n",
    "      time_step = environment.step(action_step.action)\n",
    "      episode_return += time_step.reward\n",
    "    total_return += episode_return\n",
    "\n",
    "  avg_return = total_return / num_episodes\n",
    "  return avg_return.numpy()[0]\n",
    "\n",
    "\n",
    "# See also the metrics module for standard implementations of different metrics.\n",
    "# https://github.com/tensorflow/agents/tree/master/tf_agents/metrics"
   ]
  },
  {
   "cell_type": "markdown",
   "metadata": {
    "id": "_snCVvq5Z8lJ"
   },
   "source": [
    "Running this computation on the `random_policy` shows a baseline performance in the environment."
   ]
  },
  {
   "cell_type": "code",
   "execution_count": 23,
   "metadata": {
    "execution": {
     "iopub.execute_input": "2021-04-23T11:13:05.387074Z",
     "iopub.status.busy": "2021-04-23T11:13:05.386354Z",
     "iopub.status.idle": "2021-04-23T11:13:05.860960Z",
     "shell.execute_reply": "2021-04-23T11:13:05.860354Z"
    },
    "id": "9bgU6Q6BZ8Bp"
   },
   "outputs": [
    {
     "data": {
      "text/plain": [
       "21.7"
      ]
     },
     "execution_count": 1,
     "metadata": {},
     "output_type": "execute_result"
    }
   ],
   "source": [
    "compute_avg_return(eval_env, random_policy, num_eval_episodes)"
   ]
  },
  {
   "cell_type": "markdown",
   "metadata": {
    "id": "NLva6g2jdWgr"
   },
   "source": [
    "## Replay Buffer\n",
    "\n",
    "The replay buffer keeps track of data collected from the environment. This tutorial uses `tf_agents.replay_buffers.tf_uniform_replay_buffer.TFUniformReplayBuffer`, as it is the most common. \n",
    "\n",
    "The constructor requires the specs for the data it will be collecting. This is available from the agent using the `collect_data_spec` method. The batch size and maximum buffer length are also required.\n"
   ]
  },
  {
   "cell_type": "code",
   "execution_count": 24,
   "metadata": {
    "execution": {
     "iopub.execute_input": "2021-04-23T11:13:05.865746Z",
     "iopub.status.busy": "2021-04-23T11:13:05.865098Z",
     "iopub.status.idle": "2021-04-23T11:13:05.877943Z",
     "shell.execute_reply": "2021-04-23T11:13:05.877447Z"
    },
    "id": "vX2zGUWJGWAl"
   },
   "outputs": [],
   "source": [
    "replay_buffer = tf_uniform_replay_buffer.TFUniformReplayBuffer(\n",
    "    data_spec=agent.collect_data_spec,\n",
    "    batch_size=train_env.batch_size,\n",
    "    max_length=replay_buffer_max_length)"
   ]
  },
  {
   "cell_type": "markdown",
   "metadata": {
    "id": "ZGNTDJpZs4NN"
   },
   "source": [
    "For most agents, `collect_data_spec` is a named tuple called `Trajectory`, containing the specs for observations, actions, rewards, and other items."
   ]
  },
  {
   "cell_type": "code",
   "execution_count": 25,
   "metadata": {
    "execution": {
     "iopub.execute_input": "2021-04-23T11:13:05.883373Z",
     "iopub.status.busy": "2021-04-23T11:13:05.882727Z",
     "iopub.status.idle": "2021-04-23T11:13:05.886382Z",
     "shell.execute_reply": "2021-04-23T11:13:05.885860Z"
    },
    "id": "_IZ-3HcqgE1z"
   },
   "outputs": [
    {
     "data": {
      "text/plain": [
       "Trajectory(step_type=TensorSpec(shape=(), dtype=tf.int32, name='step_type'), observation=BoundedTensorSpec(shape=(4,), dtype=tf.float32, name='observation', minimum=array([-4.8000002e+00, -3.4028235e+38, -4.1887903e-01, -3.4028235e+38],\n",
       "      dtype=float32), maximum=array([4.8000002e+00, 3.4028235e+38, 4.1887903e-01, 3.4028235e+38],\n",
       "      dtype=float32)), action=BoundedTensorSpec(shape=(), dtype=tf.int64, name='action', minimum=array(0), maximum=array(1)), policy_info=(), next_step_type=TensorSpec(shape=(), dtype=tf.int32, name='step_type'), reward=TensorSpec(shape=(), dtype=tf.float32, name='reward'), discount=BoundedTensorSpec(shape=(), dtype=tf.float32, name='discount', minimum=array(0., dtype=float32), maximum=array(1., dtype=float32)))"
      ]
     },
     "execution_count": 1,
     "metadata": {},
     "output_type": "execute_result"
    }
   ],
   "source": [
    "agent.collect_data_spec"
   ]
  },
  {
   "cell_type": "code",
   "execution_count": 26,
   "metadata": {
    "execution": {
     "iopub.execute_input": "2021-04-23T11:13:05.890749Z",
     "iopub.status.busy": "2021-04-23T11:13:05.890116Z",
     "iopub.status.idle": "2021-04-23T11:13:05.893027Z",
     "shell.execute_reply": "2021-04-23T11:13:05.892537Z"
    },
    "id": "sy6g1tGcfRlw"
   },
   "outputs": [
    {
     "data": {
      "text/plain": [
       "('step_type',\n",
       " 'observation',\n",
       " 'action',\n",
       " 'policy_info',\n",
       " 'next_step_type',\n",
       " 'reward',\n",
       " 'discount')"
      ]
     },
     "execution_count": 1,
     "metadata": {},
     "output_type": "execute_result"
    }
   ],
   "source": [
    "agent.collect_data_spec._fields"
   ]
  },
  {
   "cell_type": "markdown",
   "metadata": {
    "id": "rVD5nQ9ZGo8_"
   },
   "source": [
    "## Data Collection\n",
    "\n",
    "Now execute the random policy in the environment for a few steps, recording the data in the replay buffer."
   ]
  },
  {
   "cell_type": "code",
   "execution_count": 27,
   "metadata": {
    "execution": {
     "iopub.execute_input": "2021-04-23T11:13:05.899317Z",
     "iopub.status.busy": "2021-04-23T11:13:05.898659Z",
     "iopub.status.idle": "2021-04-23T11:13:06.296143Z",
     "shell.execute_reply": "2021-04-23T11:13:06.296586Z"
    },
    "id": "wr1KSAEGG4h9"
   },
   "outputs": [],
   "source": [
    "#@test {\"skip\": true}\n",
    "def collect_step(environment, policy, buffer):\n",
    "  time_step = environment.current_time_step()\n",
    "  action_step = policy.action(time_step)\n",
    "  next_time_step = environment.step(action_step.action)\n",
    "  traj = trajectory.from_transition(time_step, action_step, next_time_step)\n",
    "\n",
    "  # Add trajectory to the replay buffer\n",
    "  buffer.add_batch(traj)\n",
    "\n",
    "def collect_data(env, policy, buffer, steps):\n",
    "  for _ in range(steps):\n",
    "    collect_step(env, policy, buffer)\n",
    "\n",
    "collect_data(train_env, random_policy, replay_buffer, initial_collect_steps)\n",
    "\n",
    "# This loop is so common in RL, that we provide standard implementations. \n",
    "# For more details see the drivers module.\n",
    "# https://www.tensorflow.org/agents/api_docs/python/tf_agents/drivers"
   ]
  },
  {
   "cell_type": "markdown",
   "metadata": {
    "id": "84z5pQJdoKxo"
   },
   "source": [
    "The replay buffer is now a collection of Trajectories."
   ]
  },
  {
   "cell_type": "code",
   "execution_count": 28,
   "metadata": {
    "execution": {
     "iopub.execute_input": "2021-04-23T11:13:06.301229Z",
     "iopub.status.busy": "2021-04-23T11:13:06.300231Z",
     "iopub.status.idle": "2021-04-23T11:13:06.302872Z",
     "shell.execute_reply": "2021-04-23T11:13:06.302320Z"
    },
    "id": "4wZnLu2ViO4E"
   },
   "outputs": [],
   "source": [
    "# For the curious:\n",
    "# Uncomment to peel one of these off and inspect it.\n",
    "# iter(replay_buffer.as_dataset()).next()"
   ]
  },
  {
   "cell_type": "markdown",
   "metadata": {
    "id": "TujU-PMUsKjS"
   },
   "source": [
    "The agent needs access to the replay buffer. This is provided by creating an iterable `tf.data.Dataset` pipeline which will feed data to the agent.\n",
    "\n",
    "Each row of the replay buffer only stores a single observation step. But since the DQN Agent needs both the current and next observation to compute the loss, the dataset pipeline will sample two adjacent rows for each item in the batch (`num_steps=2`).\n",
    "\n",
    "This dataset is also optimized by running parallel calls and prefetching data."
   ]
  },
  {
   "cell_type": "code",
   "execution_count": 29,
   "metadata": {
    "execution": {
     "iopub.execute_input": "2021-04-23T11:13:06.308011Z",
     "iopub.status.busy": "2021-04-23T11:13:06.307031Z",
     "iopub.status.idle": "2021-04-23T11:13:07.113582Z",
     "shell.execute_reply": "2021-04-23T11:13:07.113036Z"
    },
    "id": "ba7bilizt_qW"
   },
   "outputs": [
    {
     "name": "stdout",
     "output_type": "stream",
     "text": [
      "WARNING:tensorflow:From /tmpfs/src/tf_docs_env/lib/python3.6/site-packages/tensorflow/python/autograph/operators/control_flow.py:1218: ReplayBuffer.get_next (from tf_agents.replay_buffers.replay_buffer) is deprecated and will be removed in a future version.\n",
      "Instructions for updating:\n",
      "Use `as_dataset(..., single_deterministic_pass=False) instead.\n"
     ]
    },
    {
     "data": {
      "text/plain": [
       "<PrefetchDataset shapes: (Trajectory(step_type=(64, 2), observation=(64, 2, 4), action=(64, 2), policy_info=(), next_step_type=(64, 2), reward=(64, 2), discount=(64, 2)), BufferInfo(ids=(64, 2), probabilities=(64,))), types: (Trajectory(step_type=tf.int32, observation=tf.float32, action=tf.int64, policy_info=(), next_step_type=tf.int32, reward=tf.float32, discount=tf.float32), BufferInfo(ids=tf.int64, probabilities=tf.float32))>"
      ]
     },
     "execution_count": 1,
     "metadata": {},
     "output_type": "execute_result"
    }
   ],
   "source": [
    "# Dataset generates trajectories with shape [Bx2x...]\n",
    "dataset = replay_buffer.as_dataset(\n",
    "    num_parallel_calls=3, \n",
    "    sample_batch_size=batch_size, \n",
    "    num_steps=2).prefetch(3)\n",
    "\n",
    "\n",
    "dataset"
   ]
  },
  {
   "cell_type": "code",
   "execution_count": 30,
   "metadata": {
    "execution": {
     "iopub.execute_input": "2021-04-23T11:13:07.118465Z",
     "iopub.status.busy": "2021-04-23T11:13:07.117010Z",
     "iopub.status.idle": "2021-04-23T11:13:07.173417Z",
     "shell.execute_reply": "2021-04-23T11:13:07.172831Z"
    },
    "id": "K13AST-2ppOq"
   },
   "outputs": [
    {
     "name": "stdout",
     "output_type": "stream",
     "text": [
      "<tensorflow.python.data.ops.iterator_ops.OwnedIterator object at 0x7f8f64774048>\n"
     ]
    }
   ],
   "source": [
    "iterator = iter(dataset)\n",
    "print(iterator)"
   ]
  },
  {
   "cell_type": "code",
   "execution_count": 31,
   "metadata": {
    "execution": {
     "iopub.execute_input": "2021-04-23T11:13:07.177265Z",
     "iopub.status.busy": "2021-04-23T11:13:07.176589Z",
     "iopub.status.idle": "2021-04-23T11:13:07.178998Z",
     "shell.execute_reply": "2021-04-23T11:13:07.178499Z"
    },
    "id": "Th5w5Sff0b16"
   },
   "outputs": [],
   "source": [
    "# For the curious:\n",
    "# Uncomment to see what the dataset iterator is feeding to the agent.\n",
    "# Compare this representation of replay data \n",
    "# to the collection of individual trajectories shown earlier.\n",
    "\n",
    "# iterator.next()"
   ]
  },
  {
   "cell_type": "markdown",
   "metadata": {
    "id": "hBc9lj9VWWtZ"
   },
   "source": [
    "## Training the agent\n",
    "\n",
    "Two things must happen during the training loop:\n",
    "\n",
    "-   collect data from the environment\n",
    "-   use that data to train the agent's neural network(s)\n",
    "\n",
    "This example also periodicially evaluates the policy and prints the current score.\n",
    "\n",
    "The following will take ~5 minutes to run."
   ]
  },
  {
   "cell_type": "code",
   "execution_count": 32,
   "metadata": {
    "execution": {
     "iopub.execute_input": "2021-04-23T11:13:07.189642Z",
     "iopub.status.busy": "2021-04-23T11:13:07.188930Z",
     "iopub.status.idle": "2021-04-23T11:19:10.384516Z",
     "shell.execute_reply": "2021-04-23T11:19:10.384038Z"
    },
    "id": "0pTbJ3PeyF-u"
   },
   "outputs": [
    {
     "name": "stdout",
     "output_type": "stream",
     "text": [
      "WARNING:tensorflow:From /tmpfs/src/tf_docs_env/lib/python3.6/site-packages/tensorflow/python/util/dispatch.py:201: calling foldr_v2 (from tensorflow.python.ops.functional_ops) with back_prop=False is deprecated and will be removed in a future version.\n",
      "Instructions for updating:\n",
      "back_prop=False is deprecated. Consider using tf.stop_gradient instead.\n",
      "Instead of:\n",
      "results = tf.foldr(fn, elems, back_prop=False)\n",
      "Use:\n",
      "results = tf.nest.map_structure(tf.stop_gradient, tf.foldr(fn, elems))\n",
      "step = 200: loss = 9.095088958740234\n",
      "step = 400: loss = 2.3183717727661133\n",
      "step = 600: loss = 5.025714874267578\n",
      "step = 800: loss = 16.513103485107422\n",
      "step = 1000: loss = 24.246417999267578\n",
      "step = 1000: Average Return = 99.5\n",
      "step = 1200: loss = 110.8505630493164\n",
      "step = 1400: loss = 1098.2208251953125\n",
      "step = 1600: loss = 44.4236946105957\n",
      "step = 1800: loss = 673.2186889648438\n",
      "step = 2000: loss = 2063.290771484375\n",
      "step = 2000: Average Return = 200.0\n",
      "step = 2200: loss = 7060.94384765625\n",
      "step = 2400: loss = 189.33494567871094\n",
      "step = 2600: loss = 720.3172607421875\n",
      "step = 2800: loss = 94.10176086425781\n",
      "step = 3000: loss = 1462.5380859375\n",
      "step = 3000: Average Return = 200.0\n",
      "step = 3200: loss = 7095.6025390625\n",
      "step = 3400: loss = 872.216064453125\n",
      "step = 3600: loss = 32411.689453125\n",
      "step = 3800: loss = 79643.1875\n",
      "step = 4000: loss = 4043.4658203125\n",
      "step = 4000: Average Return = 200.0\n",
      "step = 4200: loss = 70863.8046875\n",
      "step = 4400: loss = 2129.42724609375\n",
      "step = 4600: loss = 2414.765380859375\n",
      "step = 4800: loss = 6093.17578125\n",
      "step = 5000: loss = 78532.234375\n",
      "step = 5000: Average Return = 200.0\n",
      "step = 5200: loss = 3365.4169921875\n",
      "step = 5400: loss = 45210.015625\n",
      "step = 5600: loss = 3585.898193359375\n",
      "step = 5800: loss = 3735.954345703125\n",
      "step = 6000: loss = 2179.28173828125\n",
      "step = 6000: Average Return = 200.0\n",
      "step = 6200: loss = 2508.9638671875\n",
      "step = 6400: loss = 14920.5078125\n",
      "step = 6600: loss = 77874.3671875\n",
      "step = 6800: loss = 24660.955078125\n",
      "step = 7000: loss = 32839.59375\n",
      "step = 7000: Average Return = 200.0\n",
      "step = 7200: loss = 9303.3125\n",
      "step = 7400: loss = 13425.830078125\n",
      "step = 7600: loss = 26165.822265625\n",
      "step = 7800: loss = 25263.27734375\n",
      "step = 8000: loss = 18691.228515625\n",
      "step = 8000: Average Return = 200.0\n",
      "step = 8200: loss = 5293.77734375\n",
      "step = 8400: loss = 50872.7421875\n",
      "step = 8600: loss = 33405.71875\n",
      "step = 8800: loss = 84072.15625\n",
      "step = 9000: loss = 43374.0\n",
      "step = 9000: Average Return = 200.0\n",
      "step = 9200: loss = 1136423.125\n",
      "step = 9400: loss = 2585719.0\n",
      "step = 9600: loss = 53590.4765625\n",
      "step = 9800: loss = 36505.47265625\n",
      "step = 10000: loss = 46150.7109375\n",
      "step = 10000: Average Return = 200.0\n",
      "step = 10200: loss = 1208586.75\n",
      "step = 10400: loss = 98790.078125\n",
      "step = 10600: loss = 77796.796875\n",
      "step = 10800: loss = 89555.71875\n",
      "step = 11000: loss = 3419428.0\n",
      "step = 11000: Average Return = 200.0\n",
      "step = 11200: loss = 97494.8203125\n",
      "step = 11400: loss = 450756.125\n",
      "step = 11600: loss = 253316.40625\n",
      "step = 11800: loss = 771950.25\n",
      "step = 12000: loss = 778368.625\n",
      "step = 12000: Average Return = 200.0\n",
      "step = 12200: loss = 4742636.0\n",
      "step = 12400: loss = 10986500.0\n",
      "step = 12600: loss = 367747.28125\n",
      "step = 12800: loss = 1012846.75\n",
      "step = 13000: loss = 26241664.0\n",
      "step = 13000: Average Return = 200.0\n",
      "step = 13200: loss = 248481.625\n",
      "step = 13400: loss = 1611416.25\n",
      "step = 13600: loss = 754547.5625\n",
      "step = 13800: loss = 1587278.125\n",
      "step = 14000: loss = 465674.78125\n",
      "step = 14000: Average Return = 200.0\n",
      "step = 14200: loss = 111498560.0\n",
      "step = 14400: loss = 28927434.0\n",
      "step = 14600: loss = 58835152.0\n",
      "step = 14800: loss = 1090400.625\n",
      "step = 15000: loss = 1049594.125\n",
      "step = 15000: Average Return = 200.0\n",
      "step = 15200: loss = 44515704.0\n",
      "step = 15400: loss = 421950.875\n",
      "step = 15600: loss = 288173.9375\n",
      "step = 15800: loss = 3512469.0\n",
      "step = 16000: loss = 5577572.0\n",
      "step = 16000: Average Return = 200.0\n",
      "step = 16200: loss = 1615483.5\n",
      "step = 16400: loss = 1034684.1875\n",
      "step = 16600: loss = 2341864.5\n",
      "step = 16800: loss = 438658.28125\n",
      "step = 17000: loss = 6684584.0\n",
      "step = 17000: Average Return = 200.0\n",
      "step = 17200: loss = 429630912.0\n",
      "step = 17400: loss = 1792520.0\n",
      "step = 17600: loss = 24703826.0\n",
      "step = 17800: loss = 72774960.0\n",
      "step = 18000: loss = 1508881.5\n",
      "step = 18000: Average Return = 200.0\n",
      "step = 18200: loss = 1598824.875\n",
      "step = 18400: loss = 1407266.5\n",
      "step = 18600: loss = 7741643.5\n",
      "step = 18800: loss = 3723413.25\n",
      "step = 19000: loss = 3694321.0\n",
      "step = 19000: Average Return = 200.0\n",
      "step = 19200: loss = 10306676.0\n",
      "step = 19400: loss = 8562238.0\n",
      "step = 19600: loss = 6497863.0\n",
      "step = 19800: loss = 1897075.5\n",
      "step = 20000: loss = 16565175.0\n",
      "step = 20000: Average Return = 200.0\n"
     ]
    }
   ],
   "source": [
    "#@test {\"skip\": true}\n",
    "try:\n",
    "  %%time\n",
    "except:\n",
    "  pass\n",
    "\n",
    "# (Optional) Optimize by wrapping some of the code in a graph using TF function.\n",
    "agent.train = common.function(agent.train)\n",
    "\n",
    "# Reset the train step\n",
    "agent.train_step_counter.assign(0)\n",
    "\n",
    "# Evaluate the agent's policy once before training.\n",
    "avg_return = compute_avg_return(eval_env, agent.policy, num_eval_episodes)\n",
    "returns = [avg_return]\n",
    "\n",
    "for _ in range(num_iterations):\n",
    "\n",
    "  # Collect a few steps using collect_policy and save to the replay buffer.\n",
    "  collect_data(train_env, agent.collect_policy, replay_buffer, collect_steps_per_iteration)\n",
    "\n",
    "  # Sample a batch of data from the buffer and update the agent's network.\n",
    "  experience, unused_info = next(iterator)\n",
    "  train_loss = agent.train(experience).loss\n",
    "\n",
    "  step = agent.train_step_counter.numpy()\n",
    "\n",
    "  if step % log_interval == 0:\n",
    "    print('step = {0}: loss = {1}'.format(step, train_loss))\n",
    "\n",
    "  if step % eval_interval == 0:\n",
    "    avg_return = compute_avg_return(eval_env, agent.policy, num_eval_episodes)\n",
    "    print('step = {0}: Average Return = {1}'.format(step, avg_return))\n",
    "    returns.append(avg_return)"
   ]
  },
  {
   "cell_type": "markdown",
   "metadata": {
    "id": "68jNcA_TiJDq"
   },
   "source": [
    "## Visualization\n"
   ]
  },
  {
   "cell_type": "markdown",
   "metadata": {
    "id": "aO-LWCdbbOIC"
   },
   "source": [
    "### Plots\n",
    "\n",
    "Use `matplotlib.pyplot` to chart how the policy improved during training.\n",
    "\n",
    "One iteration of `Cartpole-v0` consists of 200 time steps. The environment gives a reward of `+1` for each step the pole stays up, so the maximum return for one episode is 200. The charts shows the return increasing towards that maximum each time it is evaluated during training. (It may be a little unstable and not increase monotonically each time.)"
   ]
  },
  {
   "cell_type": "code",
   "execution_count": 33,
   "metadata": {
    "execution": {
     "iopub.execute_input": "2021-04-23T11:19:10.403377Z",
     "iopub.status.busy": "2021-04-23T11:19:10.402169Z",
     "iopub.status.idle": "2021-04-23T11:19:10.540994Z",
     "shell.execute_reply": "2021-04-23T11:19:10.541494Z"
    },
    "id": "NxtL1mbOYCVO"
   },
   "outputs": [
    {
     "data": {
      "text/plain": [
       "(32.21000080108642, 250.0)"
      ]
     },
     "execution_count": 1,
     "metadata": {},
     "output_type": "execute_result"
    },
    {
     "data": {
      "image/png": "[encoded data removed]",
      "text/plain": [
       "<Figure size 432x288 with 1 Axes>"
      ]
     },
     "metadata": {
      "needs_background": "light"
     },
     "output_type": "display_data"
    }
   ],
   "source": [
    "#@test {\"skip\": true}\n",
    "\n",
    "iterations = range(0, num_iterations + 1, eval_interval)\n",
    "plt.plot(iterations, returns)\n",
    "plt.ylabel('Average Return')\n",
    "plt.xlabel('Iterations')\n",
    "plt.ylim(top=250)"
   ]
  },
  {
   "cell_type": "markdown",
   "metadata": {
    "id": "M7-XpPP99Cy7"
   },
   "source": [
    "### Videos"
   ]
  },
  {
   "cell_type": "markdown",
   "metadata": {
    "id": "9pGfGxSH32gn"
   },
   "source": [
    "Charts are nice. But more exciting is seeing an agent actually performing a task in an environment. \n",
    "\n",
    "First, create a function to embed videos in the notebook."
   ]
  },
  {
   "cell_type": "code",
   "execution_count": 34,
   "metadata": {
    "execution": {
     "iopub.execute_input": "2021-04-23T11:19:10.547841Z",
     "iopub.status.busy": "2021-04-23T11:19:10.546773Z",
     "iopub.status.idle": "2021-04-23T11:19:10.549398Z",
     "shell.execute_reply": "2021-04-23T11:19:10.548954Z"
    },
    "id": "ULaGr8pvOKbl"
   },
   "outputs": [],
   "source": [
    "def embed_mp4(filename):\n",
    "  \"\"\"Embeds an mp4 file in the notebook.\"\"\"\n",
    "  video = open(filename,'rb').read()\n",
    "  b64 = base64.b64encode(video)\n",
    "  tag = '''\n",
    "  <video width=\"640\" height=\"480\" controls>\n",
    "    <source src=\"data:video/mp4;base64,{0}\" type=\"video/mp4\">\n",
    "  Your browser does not support the video tag.\n",
    "  </video>'''.format(b64.decode())\n",
    "\n",
    "  return IPython.display.HTML(tag)"
   ]
  },
  {
   "cell_type": "markdown",
   "metadata": {
    "id": "9c_PH-pX4Pr5"
   },
   "source": [
    "Now iterate through a few episodes of the Cartpole game with the agent. The underlying Python environment (the one \"inside\" the TensorFlow environment wrapper) provides a `render()` method, which outputs an image of the environment state. These can be collected into a video."
   ]
  },
  {
   "cell_type": "code",
   "execution_count": 35,
   "metadata": {
    "execution": {
     "iopub.execute_input": "2021-04-23T11:19:10.556420Z",
     "iopub.status.busy": "2021-04-23T11:19:10.555451Z",
     "iopub.status.idle": "2021-04-23T11:19:22.293903Z",
     "shell.execute_reply": "2021-04-23T11:19:22.294380Z"
    },
    "id": "owOVWB158NlF"
   },
   "outputs": [
    {
     "name": "stderr",
     "output_type": "stream",
     "text": [
      "WARNING:root:IMAGEIO FFMPEG_WRITER WARNING: input image is not divisible by macro_block_size=16, resizing from (400, 600) to (400, 608) to ensure video compatibility with most codecs and players. To prevent resizing, make your input image divisible by the macro_block_size or set the macro_block_size to None (risking incompatibility). You may also see a FFMPEG warning concerning speedloss due to data not being aligned.\n"
     ]
    },
    {
     "data": {
      "text/html": [
       "\n",
       "  <video width=\"640\" height=\"480\" controls>\n",
       "    <source src=\"data:video/mp4;base64,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\" type=\"video/mp4\">\n",
       "  Your browser does not support the video tag.\n",
       "  </video>"
      ],
      "text/plain": [
       "<IPython.core.display.HTML object>"
      ]
     },
     "execution_count": 1,
     "metadata": {},
     "output_type": "execute_result"
    }
   ],
   "source": [
    "def create_policy_eval_video(policy, filename, num_episodes=5, fps=30):\n",
    "  filename = filename + \".mp4\"\n",
    "  with imageio.get_writer(filename, fps=fps,) as video:\n",
    "    for _ in range(num_episodes):\n",
    "      time_step = eval_env.reset()\n",
    "      video.append_data(eval_py_env.render())\n",
    "      while not time_step.is_last():\n",
    "        action_step = policy.action(time_step)\n",
    "        time_step = eval_env.step(action_step.action)\n",
    "        video.append_data(eval_py_env.render())\n",
    "  return embed_mp4(filename)\n",
    "\n",
    "\n",
    "\n",
    "\n",
    "create_policy_eval_video(agent.policy, \"trained-agent\")"
   ]
  },
  {
   "cell_type": "markdown",
   "metadata": {
    "id": "povaAOcZygLw"
   },
   "source": [
    "For fun, compare the trained agent (above) to an agent moving randomly. (It does not do as well.)"
   ]
  },
  {
   "cell_type": "code",
   "execution_count": 36,
   "metadata": {
    "execution": {
     "iopub.execute_input": "2021-04-23T11:19:22.299471Z",
     "iopub.status.busy": "2021-04-23T11:19:22.298894Z",
     "iopub.status.idle": "2021-04-23T11:19:23.251992Z",
     "shell.execute_reply": "2021-04-23T11:19:23.252440Z"
    },
    "id": "pJZIdC37yNH4"
   },
   "outputs": [
    {
     "name": "stderr",
     "output_type": "stream",
     "text": [
      "WARNING:root:IMAGEIO FFMPEG_WRITER WARNING: input image is not divisible by macro_block_size=16, resizing from (400, 600) to (400, 608) to ensure video compatibility with most codecs and players. To prevent resizing, make your input image divisible by the macro_block_size or set the macro_block_size to None (risking incompatibility). You may also see a FFMPEG warning concerning speedloss due to data not being aligned.\n"
     ]
    },
    {
     "data": {
      "text/html": [
       "\n",
       "  <video width=\"640\" height=\"480\" controls>\n",
       "    <source src=\"data:video/mp4;base64,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\" type=\"video/mp4\">\n",
       "  Your browser does not support the video tag.\n",
       "  </video>"
      ],
      "text/plain": [
       "<IPython.core.display.HTML object>"
      ]
     },
     "execution_count": 1,
     "metadata": {},
     "output_type": "execute_result"
    }
   ],
   "source": [
    "create_policy_eval_video(random_policy, \"random-agent\")"
   ]
  }
 ],
 "metadata": {
  "colab": {
   "collapsed_sections": [],
   "name": "DQN Tutorial.ipynb",
   "private_outputs": true,
   "provenance": [],
   "toc_visible": true
  },
  "kernelspec": {
   "display_name": "Python 3",
   "language": "python",
   "name": "python3"
  },
  "language_info": {
   "codemirror_mode": {
    "name": "ipython",
    "version": 3
   },
   "file_extension": ".py",
   "mimetype": "text/x-python",
   "name": "python",
   "nbconvert_exporter": "python",
   "pygments_lexer": "ipython3",
   "version": "3.8.5"
  },
  "pycharm": {
   "stem_cell": {
    "cell_type": "raw",
    "metadata": {
     "collapsed": false
    },
    "source": []
   }
  }
 },
 "nbformat": 4,
 "nbformat_minor": 1
}
